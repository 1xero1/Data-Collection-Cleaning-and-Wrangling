{
 "cells": [
  {
   "cell_type": "markdown",
   "metadata": {},
   "source": [
    "### **_1. Import Libraries, and Read Data_**"
   ]
  },
  {
   "cell_type": "code",
   "execution_count": null,
   "metadata": {},
   "outputs": [],
   "source": [
    "import pandas as pd"
   ]
  },
  {
   "cell_type": "markdown",
   "metadata": {},
   "source": [
    "### **_1.1. Reading Excel File_**"
   ]
  },
  {
   "cell_type": "code",
   "execution_count": null,
   "metadata": {},
   "outputs": [],
   "source": [
    "data=pd.read_csv('Fixed_Speed_Cameras.csv') #read the data from .csv file\n",
    "#print(data)\n",
    "data.head() "
   ]
  },
  {
   "cell_type": "markdown",
   "metadata": {},
   "source": [
    "### **_1.2 Get Information About Loaded Data_**"
   ]
  },
  {
   "cell_type": "code",
   "execution_count": null,
   "metadata": {},
   "outputs": [],
   "source": [
    "## check the data types of column\n",
    "data=pd.read_csv('annual-enterprise-survey-2020-financial-year-provisional-csv - Copy.csv')\n",
    "\n",
    "#data.info() # to get a basic feel of the data\n",
    "data['Value'].dtypes #to get the data types of the data in column 'Value'"
   ]
  },
  {
   "cell_type": "markdown",
   "metadata": {},
   "source": [
    "### **_2. Data Subseting and Sorting_**"
   ]
  },
  {
   "cell_type": "code",
   "execution_count": null,
   "metadata": {},
   "outputs": [],
   "source": [
    "## Read specific column and rows individually\n",
    "fields = ['X', 'Y', 'fid', 'objectid'] # read specific column with given header name in fields\n",
    "csvF=pd.read_csv('Fixed_Speed_Cameras.csv', usecols=fields) \n",
    "\n",
    "##read nth row of 'X','Y', 'fid', 'objectid' column\n",
    "n=0\n",
    "FirstRow=csvF.iloc[n] \n",
    "FirstRow"
   ]
  },
  {
   "cell_type": "code",
   "execution_count": null,
   "metadata": {},
   "outputs": [],
   "source": [
    "#read row/column based on row/column number\n",
    "#df2.loc[startrow:endrow, startcolumn:endcolumn]\n",
    "\n",
    "cc=pd.read_csv('Fixed_Speed_Cameras.csv')\n",
    "RC=cc.iloc[0:5,0:5] #select first 5 rows and first 5 columns\n",
    "#RC"
   ]
  },
  {
   "cell_type": "markdown",
   "metadata": {},
   "source": [
    "### **_3. Drop Specific Rows/Columns of Data_**"
   ]
  },
  {
   "cell_type": "code",
   "execution_count": null,
   "metadata": {},
   "outputs": [],
   "source": [
    "skipped=[1] #skipping the first row (of actual data), note 0th row is header row\n",
    "cc_skipped=pd.read_csv('Fixed_Speed_Cameras.csv', skiprows = skipped)\n",
    "FiveFive=cc_skipped.iloc[0:5,0:5] #data without skipped rows\n",
    "#FiveFive"
   ]
  },
  {
   "cell_type": "code",
   "execution_count": null,
   "metadata": {},
   "outputs": [],
   "source": [
    "#drop/skipping based on column name\n",
    "data=pd.read_csv('Fixed_Speed_Cameras.csv')\n",
    "data.drop(['X'], axis = 1, inplace = True) #drop column 'X'\n",
    "#data\n",
    "\n",
    "# drop two non-consecutive columns\n",
    "data.drop(['uid_no','arc_street'], axis=1, inplace=True)\n",
    "#data"
   ]
  },
  {
   "cell_type": "code",
   "execution_count": null,
   "metadata": {},
   "outputs": [],
   "source": [
    "#drop by column index in case the data has duplicate column names and cannot drop by name\n",
    "data=pd.read_csv('Fixed_Speed_Cameras.csv')\n",
    "n=[0,1,2]#column number to drop\n",
    "data.drop(data.columns[n], axis=1, inplace=True) \n",
    "#data"
   ]
  },
  {
   "cell_type": "code",
   "execution_count": null,
   "metadata": {},
   "outputs": [],
   "source": [
    "#combine column and rows drop \n",
    "#column drop by name, row drop by index\n",
    "dropped_rows=[1,2] #list of rows to drop\n",
    "data=pd.read_csv('Fixed_Speed_Cameras.csv', skiprows=dropped_rows)\n",
    "data=data.loc[:, ~data.columns.isin(['X', 'Y'])] #drop column X and Y\n",
    "#data"
   ]
  },
  {
   "cell_type": "code",
   "execution_count": null,
   "metadata": {},
   "outputs": [],
   "source": [
    "#drop by method of column/row index\n",
    "row_drop=[1,2] #list of rows(row 1 and 2, excluding header row) to drop\n",
    "col_drop=[0,1] #list of columns to drop\n",
    "data=pd.read_csv('Fixed_Speed_Cameras.csv', skiprows=dropped_rows)\n",
    "data.drop(data.columns[col_drop], axis=1, inplace=True) #drop column X and Y indexed by 1, 2\n",
    "#data"
   ]
  },
  {
   "cell_type": "code",
   "execution_count": null,
   "metadata": {},
   "outputs": [],
   "source": [
    "#skip odd rows\n",
    "field=['fid', 'objectid']\n",
    "df_odd = pd.read_csv('Fixed_Speed_Cameras.csv',skiprows = lambda x: x % 2, usecols=field)\n",
    "#print(df_odd.head(5))\n",
    "\n",
    "#skip even  rows\n",
    "field=['fid', 'objectid']\n",
    "df_odd = pd.read_csv('Fixed_Speed_Cameras.csv',skiprows = lambda x: (x!=0) and not x % 2, usecols=field)\n",
    "#print(df_odd.head(5))"
   ]
  },
  {
   "cell_type": "markdown",
   "metadata": {},
   "source": [
    "### **_4. Selecting Specific Rows/Columns of Data_**"
   ]
  },
  {
   "cell_type": "code",
   "execution_count": null,
   "metadata": {},
   "outputs": [],
   "source": [
    "#select odd rows and even columns and vice versa\n",
    "cc=pd.read_csv('Fixed_Speed_Cameras.csv')\n",
    "RC1=cc.iloc[::2,1::2] #Odd selection: select first 5 rows and first 5 columns\n",
    "RC2=cc.iloc[1::2,::2] #Even selection: select first 5 rows and first 5 columns\n",
    "#RC1\n",
    "#RC2"
   ]
  },
  {
   "cell_type": "code",
   "execution_count": null,
   "metadata": {},
   "outputs": [],
   "source": [
    "#selecting specific row/colun to the end of data\n",
    "cc=pd.read_csv('Fixed_Speed_Cameras.csv')\n",
    "\n",
    "#select 40 to end for column 7 to 11\n",
    "#in column index starts at zero so 7th column starts at 6; in rows first row is header\n",
    "FirstRow_FirstColumn=cc.iloc[38:,6:11] \n",
    "#FirstRow_FirstColumn"
   ]
  },
  {
   "cell_type": "code",
   "execution_count": null,
   "metadata": {},
   "outputs": [],
   "source": [
    "##select row/column based on criteria\n",
    "cc=pd.read_csv('Fixed_Speed_Cameras.csv')\n",
    "New_CC=cc[cc['fid']>10] #all rows where column fid>10\n",
    "#New_CC\n",
    "\n",
    "#all rows where column 'fid'>10, and 'camtype'=Portable\n",
    "option=['Portable']\n",
    "New_CC2 = cc[(cc['fid'] > 10) & cc['camtype'].isin(option)]\n",
    "#New_CC2\n",
    "\n",
    "#all rows where column 'fid'>10, and 'camtype' is not Portable\n",
    "New_CC3 = cc[(cc['fid'] > 10) & ~cc['camtype'].isin(option)]\n",
    "#New_CC3\n",
    "\n",
    "#optional methods\n",
    "#.between() for integers\n",
    "#.isin() for characters"
   ]
  },
  {
   "cell_type": "markdown",
   "metadata": {},
   "source": [
    "### **_5.  Data Sorting_**"
   ]
  },
  {
   "cell_type": "code",
   "execution_count": null,
   "metadata": {},
   "outputs": [],
   "source": [
    "#selct only the 'X', 'Y', and 'dplmt_dat' column to perform sorting operations\n",
    "field=['X', 'Y', 'dplmt_dat']\n",
    "data=pd.read_csv('Fixed_Speed_Cameras.csv', usecols=field)\n",
    "data['dplmt_dat'].notnull().sum() #find and count non null (NA) values\n",
    "data.dropna()#drop NA rows of that column, \n",
    "new_data = data[data['dplmt_dat'].notna()] #and to fix the changes use \n",
    "#print(new_data)\n",
    "\n",
    "#Once we have date column, lets ascending sort it\n",
    "#First  use 'to_datetime()' method to convert ‘date’ column to a 'datetime object':\n",
    "new_data.loc[:,('dplmt_dat')] = pd.to_datetime(new_data.loc[:,('dplmt_dat')])\n",
    "#new_data\n",
    "\n",
    "# Now ascending sort the data by column 'dplmt_dat'\n",
    "nn_data=new_data.sort_values('dplmt_dat') \n",
    "#nn_data"
   ]
  }
 ],
 "metadata": {
  "kernelspec": {
   "display_name": "Python 3",
   "language": "python",
   "name": "python3"
  },
  "language_info": {
   "codemirror_mode": {
    "name": "ipython",
    "version": 3
   },
   "file_extension": ".py",
   "mimetype": "text/x-python",
   "name": "python",
   "nbconvert_exporter": "python",
   "pygments_lexer": "ipython3",
   "version": "3.8.5"
  }
 },
 "nbformat": 4,
 "nbformat_minor": 4
}
