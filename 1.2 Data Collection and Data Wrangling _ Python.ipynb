{
 "cells": [
  {
   "cell_type": "markdown",
   "metadata": {},
   "source": [
    "## ***Table of Contents***\n",
    "_The code below assumes numerical values in 'Value' column of the loaded data_ <br />\n",
    "[1. Prepare the Data](#DataPreparation)<br />\n",
    "[2. Handling the Missing Data](#HandlingMissingData)<br />\n",
    "[3. Definitions](#Definitions)<br />"
   ]
  },
  {
   "cell_type": "markdown",
   "metadata": {},
   "source": [
    "---"
   ]
  },
  {
   "cell_type": "code",
   "execution_count": null,
   "metadata": {},
   "outputs": [],
   "source": [
    "#imort needed libraries\n",
    "from IPython.core.interactiveshell import InteractiveShell\n",
    "InteractiveShell.ast_node_interactivity = \"all\"\n",
    "\n",
    "import pandas as pd\n",
    "import numpy as np"
   ]
  },
  {
   "cell_type": "markdown",
   "metadata": {},
   "source": [
    "## <a id=\"DataPreparation\"></a> 1. Prepare the Data ##\n",
    "Preparing the data that is known to have missing values <br />\n",
    "Download Dataset from [This Link](#https://www.stats.govt.nz/information-releases/annual-enterprise-survey-2020-financial-year-provisional, 'Data Website')"
   ]
  },
  {
   "cell_type": "code",
   "execution_count": null,
   "metadata": {},
   "outputs": [],
   "source": [
    "field=['Value']\n",
    "data=pd.read_csv('annual-enterprise-survey-2020-financial-year-provisional-csv - Copy.csv', usecols=field)\n",
    "\n",
    "#remove ','s in column values, otherwise to_numeric would consider these values as characters giving wrong result\n",
    "data['Value'] = data['Value'].str.replace(',', '') \n",
    "\n",
    "#convert non-numerics to NaNs\n",
    "data['Value']= pd.to_numeric(data['Value'], errors='coerce') \n",
    "\n",
    "data['Value'] = data['Value'].fillna(0)  #fill Nans with '0'\n",
    "\n",
    "data['Value']=data['Value'].astype(int)#convert the data to int type from floats\n",
    "data['Value'] #show the prepared/ready data"
   ]
  },
  {
   "cell_type": "markdown",
   "metadata": {},
   "source": [
    "##### once we have the data ready, we can fill the mising values (which are now 0s) with mean, median or drop them altogether"
   ]
  },
  {
   "cell_type": "markdown",
   "metadata": {},
   "source": [
    "## <a id=\"HandlingMissingData\"></a>  2. Handling the Missing Data\n",
    "Missing data (*'NaNs'* particularly) can be either *dropped* or filled with:"
   ]
  },
  {
   "cell_type": "markdown",
   "metadata": {},
   "source": [
    "   **[1. Drop Missing Data](#DropMissingData)<br />**\n",
    "   **2. Fill Missing Values with:** <br />\n",
    "        [2.1. Mean of the data (or column)](#MeanOfData) <br />\n",
    "        [2.2. Median of the Data](#MedianOfData) <br />\n",
    "        [2.3. Mode of the Data](#ModeOfData)  <br />\n",
    "        [2.4. Forward propogate (*pad* / *ffill*)](#FPropagate)  <br />\n",
    "        [2.5. Backward Propogate(*backfill* / *bfill*)](#BPropagate)  <br />\n",
    "        [2.6. Interpolation of the data  (*pandas.DataFrame.interpolate*)](#Interpolate)  <br />"
   ]
  },
  {
   "cell_type": "markdown",
   "metadata": {},
   "source": [
    "---"
   ]
  },
  {
   "cell_type": "markdown",
   "metadata": {},
   "source": [
    "### <a id=\"DropMissingData\"></a> **1. Drop Missing Data**"
   ]
  },
  {
   "cell_type": "code",
   "execution_count": null,
   "metadata": {},
   "outputs": [],
   "source": [
    "#fill existing NaNs with 0s\n",
    "data['Value'] [data['Value'] == 0] = np.nan\n",
    "countNA=data['Value'].isna().sum() #count total NaNs\n",
    "#data['Value'].isna().sum() #count total NaNs"
   ]
  },
  {
   "cell_type": "code",
   "execution_count": null,
   "metadata": {},
   "outputs": [],
   "source": [
    "countNA #count NaNs\n",
    "data['Value'] #Show the ready 'data'"
   ]
  },
  {
   "cell_type": "code",
   "execution_count": null,
   "metadata": {},
   "outputs": [],
   "source": [
    "#drop the NaNs so the net total rows should be:\n",
    "#rows before NaN drop - rows after NaNs drop\n",
    "data=data.dropna()"
   ]
  },
  {
   "cell_type": "code",
   "execution_count": null,
   "metadata": {},
   "outputs": [],
   "source": [
    "data #show data after NaN drop has applied"
   ]
  },
  {
   "cell_type": "code",
   "execution_count": null,
   "metadata": {},
   "outputs": [],
   "source": [
    "#after the NaN drop, it is a good idea to reset the index\n",
    "#data=data.reset_index()\n",
    "# here old index is added as column, can be useful in certain cases but we only want the index reset and do not concern with old index in any way\n",
    "#so instead we should use\n",
    "data=data.reset_index(drop=True)"
   ]
  },
  {
   "cell_type": "code",
   "execution_count": null,
   "metadata": {},
   "outputs": [],
   "source": [
    "data #show data after index reset, the index should now start at 0"
   ]
  },
  {
   "cell_type": "code",
   "execution_count": null,
   "metadata": {},
   "outputs": [],
   "source": [
    "countNA=data['Value'].isna().sum() #count total NaNs after NaN drop\n",
    "countNA #as can be seen all NaNs have been dropped, and toal NaN count is 0"
   ]
  },
  {
   "cell_type": "markdown",
   "metadata": {},
   "source": [
    "### <a id=\"MeanOfData\"></a> **2.1 Filling the missing data with Mean of the Data**\n",
    "- Not a good idea for a skewed data\n",
    "- Only applicable to the numeric data"
   ]
  },
  {
   "cell_type": "code",
   "execution_count": null,
   "metadata": {},
   "outputs": [],
   "source": [
    "mean_value=round(data['Value'].mean()) #take the mean of data, and roud it\n",
    "mean_value"
   ]
  },
  {
   "cell_type": "code",
   "execution_count": null,
   "metadata": {},
   "outputs": [],
   "source": [
    "#replace '0' with 'mean_value' whereever there's '0' (originally 'NaN')\n",
    "data['Value'] = data['Value'].apply(lambda x: mean_value if x == 0 else x) "
   ]
  },
  {
   "cell_type": "code",
   "execution_count": null,
   "metadata": {},
   "outputs": [],
   "source": [
    "data['Value']"
   ]
  },
  {
   "cell_type": "markdown",
   "metadata": {},
   "source": [
    "### <a id=\"MedianOfData\"></a> **2.2. Fill the missing data with Median of the data**\n",
    "- Good for skewed data\n",
    "- Only applicable to numeric data"
   ]
  },
  {
   "cell_type": "code",
   "execution_count": null,
   "metadata": {},
   "outputs": [],
   "source": [
    "median_value=round(data['Value'].median()) #take the median of data, and roud it\n",
    "median_value"
   ]
  },
  {
   "cell_type": "code",
   "execution_count": null,
   "metadata": {},
   "outputs": [],
   "source": [
    "data['Value'] = data['Value'].apply(lambda x: median_value if x == 0 else x) "
   ]
  },
  {
   "cell_type": "code",
   "execution_count": null,
   "metadata": {},
   "outputs": [],
   "source": [
    "data['Value']"
   ]
  },
  {
   "cell_type": "markdown",
   "metadata": {},
   "source": [
    "### <a id=\"ModeOfData\"></a> **2.3. Fill the missing data with Mode of the data**"
   ]
  },
  {
   "cell_type": "code",
   "execution_count": null,
   "metadata": {},
   "outputs": [],
   "source": [
    "mode_value=round(data['Value'].median()) #take the mode of data, and roud it\n",
    "mode_value"
   ]
  },
  {
   "cell_type": "code",
   "execution_count": null,
   "metadata": {},
   "outputs": [],
   "source": [
    "data['Value'] = data['Value'].apply(lambda x: mode_value if x == 0 else x) "
   ]
  },
  {
   "cell_type": "code",
   "execution_count": null,
   "metadata": {},
   "outputs": [],
   "source": [
    "data['Value']"
   ]
  },
  {
   "cell_type": "markdown",
   "metadata": {},
   "source": [
    "### <a id=\"FPropagate\"></a> **2.4 Filling the missing data with Forward Propagate**"
   ]
  },
  {
   "cell_type": "code",
   "execution_count": null,
   "metadata": {},
   "outputs": [],
   "source": [
    "#Convert 0s to NaNs \n",
    "#data['Value'].replace('0', np.nan, inplace=True)\n",
    "data['Value'] [data['Value'] == 0] = np.nan\n",
    "#data['Value'].isna().sum() #count total NaNs\n",
    "data['Value'] #Show final 'data'"
   ]
  },
  {
   "cell_type": "code",
   "execution_count": null,
   "metadata": {},
   "outputs": [],
   "source": [
    "data['Value'] #Show final 'data'"
   ]
  },
  {
   "cell_type": "code",
   "execution_count": null,
   "metadata": {},
   "outputs": [],
   "source": [
    "#fill NaNs with forward popagate\n",
    "\n",
    "#data['Value']=data['Value'].fillna(method='bfill', inplace=True)\n",
    "\n",
    "#data['Value']\n",
    "\n",
    "#since first value is NaN, we should use 'bfill'"
   ]
  },
  {
   "cell_type": "code",
   "execution_count": null,
   "metadata": {},
   "outputs": [],
   "source": [
    "#data['Value'] = data['Value'].apply(lambda x: mode_value if x == 0 else x) "
   ]
  },
  {
   "cell_type": "code",
   "execution_count": null,
   "metadata": {},
   "outputs": [],
   "source": [
    "data['Value']"
   ]
  },
  {
   "cell_type": "markdown",
   "metadata": {},
   "source": [
    "### <a id=\"BPropagate\"></a> **2.5. Filling the missing data with Backward Propagate**"
   ]
  },
  {
   "cell_type": "code",
   "execution_count": null,
   "metadata": {},
   "outputs": [],
   "source": [
    "data['Value'].fillna(method=\"bfill\") #since first value is NaN, we should use 'bfill'\n",
    "#data['Value']"
   ]
  },
  {
   "cell_type": "code",
   "execution_count": null,
   "metadata": {},
   "outputs": [],
   "source": [
    "data['Value']"
   ]
  },
  {
   "cell_type": "markdown",
   "metadata": {},
   "source": [
    "### <a id=\"Interpolate\"></a> **2.6. Filling Missing data by Interpolation**"
   ]
  },
  {
   "cell_type": "code",
   "execution_count": null,
   "metadata": {},
   "outputs": [],
   "source": [
    "#interpolation using 'linear' method, axis=0: interpolation along rows, backfill, and forward fill together\n",
    "# for more options check-out: \n",
    "#https://pandas.pydata.org/pandas-docs/stable/reference/api/pandas.DataFrame.interpolate.html\n",
    "\n",
    "data = data.interpolate(method='linear', axis=1).ffill().bfill()"
   ]
  },
  {
   "cell_type": "code",
   "execution_count": null,
   "metadata": {},
   "outputs": [],
   "source": [
    "data"
   ]
  },
  {
   "cell_type": "markdown",
   "metadata": {},
   "source": [
    "---"
   ]
  },
  {
   "cell_type": "markdown",
   "metadata": {},
   "source": [
    "## <a id=\"Definitions\"></a>  **3. Definitions**\n",
    "**i. Mean of the Data:** The mean x̄ of a data set is the sum of all the data divided by the count n: $mean=x̄= \\frac{\\sum_{i=1} ^{n} x_i}{n}$ <br />\n",
    "   <br />\n",
    "**ii. Median of the Data:** The median x˜ is the data value separating the upper half of a data set from the lower half <br />\n",
    "   - Arrange data values from lowest to highest value <br />\n",
    "   - The median is the data value in the middle of the set <br />\n",
    "   - If there are 2 data values in the middle the median is the mean of those 2 values <br />\n",
    "   \n",
    "**iii. Mode of the Data:** Mode is the value or values in the data set that occur most frequently. <br />\n",
    "   \n",
    "\n",
    "**iv. Skewed Data:** Values of data are either very high or very low; effectively posing as outliers <br />   \n",
    "\n",
    "**v. Forward Propogate:** For current NaN value, copy the value from previous index <br />\n",
    "\n",
    "**vi. Backward Propagate:** For current NaN value, copy the value from next index <br />\n",
    "\n",
    "**vii. Interpolation/Extrapolation:** Given a NaN point lies between two known points. The process of _**estimating**_ the missing (NaN) value considering its surroundingknown points is regarded as the interpolaation. "
   ]
  }
 ],
 "metadata": {
  "kernelspec": {
   "display_name": "Python 3",
   "language": "python",
   "name": "python3"
  },
  "language_info": {
   "codemirror_mode": {
    "name": "ipython",
    "version": 3
   },
   "file_extension": ".py",
   "mimetype": "text/x-python",
   "name": "python",
   "nbconvert_exporter": "python",
   "pygments_lexer": "ipython3",
   "version": "3.8.5"
  }
 },
 "nbformat": 4,
 "nbformat_minor": 4
}
